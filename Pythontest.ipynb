{
 "cells": [
  {
   "cell_type": "code",
   "execution_count": 1,
   "metadata": {},
   "outputs": [
    {
     "data": {
      "text/plain": [
       "'Examples:\\nInput : list_1 = [15, 23, 9]\\nOutput: 15\\n\\nInput : list_2 = [79, 13, 29, 7, 200]\\nOutput: 79'"
      ]
     },
     "execution_count": 1,
     "metadata": {},
     "output_type": "execute_result"
    }
   ],
   "source": [
    "# 1. Write a python program that finds the second largest number from a given list of numbers.\n",
    "\n",
    "'''Examples:\n",
    "Input : list_1 = [15, 23, 9]\n",
    "Output: 15\n",
    "\n",
    "Input : list_2 = [79, 13, 29, 7, 200]\n",
    "Output: 79'''\n"
   ]
  },
  {
   "cell_type": "code",
   "execution_count": 2,
   "metadata": {},
   "outputs": [
    {
     "name": "stdout",
     "output_type": "stream",
     "text": [
      " thes second largest number in the list is: 15\n"
     ]
    }
   ],
   "source": [
    "list_1 = [15,23,9]\n",
    "# using build in sort method\n",
    "list_1.sort()\n",
    "# printing the second last element\n",
    "print(\" thes second largest number in the list is:\",list_1[-2])"
   ]
  },
  {
   "cell_type": "code",
   "execution_count": 5,
   "metadata": {},
   "outputs": [
    {
     "name": "stdout",
     "output_type": "stream",
     "text": [
      "29\n"
     ]
    }
   ],
   "source": [
    "# using set and remove function\n",
    "#list of numbers\n",
    "list_2 = [79,13,29,7,20]\n",
    "#newlist is a set of list_2\n",
    "new_lst = set(list_2)\n",
    "# removing the largest elememt from list_2\n",
    "new_lst.remove(max(new_lst))\n",
    "# elements in new list are not changed\n",
    "print(max(new_lst))"
   ]
  },
  {
   "cell_type": "code",
   "execution_count": 17,
   "metadata": {},
   "outputs": [
    {
     "name": "stdout",
     "output_type": "stream",
     "text": [
      "34 is not a prime number\n"
     ]
    }
   ],
   "source": [
    "## 2. Given a positive integer N, write a program in python that checks if the number is prime or not.\n",
    "\n",
    "#Examples :\n",
    "#Input:  n = 34\n",
    "#output: true\n",
    "\n",
    "num = 34\n",
    "# if given number is greater than 1\n",
    "if num > 1:\n",
    "    for i in range(2, num): \n",
    "        if (num % i) == 0:\n",
    "            print(num, \"is not a prime number\") \n",
    "            break\n",
    "    else: \n",
    "        print(num, \"is a prime number\") \n",
    "                \n",
    "               \n",
    "else: \n",
    "     print(num, \"is not a prime number\") \n",
    "\n",
    "    \n",
    "  \n",
    "  \n",
    "\n"
   ]
  },
  {
   "cell_type": "code",
   "execution_count": null,
   "metadata": {},
   "outputs": [],
   "source": []
  }
 ],
 "metadata": {
  "kernelspec": {
   "display_name": "Python 3",
   "language": "python",
   "name": "python3"
  },
  "language_info": {
   "codemirror_mode": {
    "name": "ipython",
    "version": 3
   },
   "file_extension": ".py",
   "mimetype": "text/x-python",
   "name": "python",
   "nbconvert_exporter": "python",
   "pygments_lexer": "ipython3",
   "version": "3.7.1"
  }
 },
 "nbformat": 4,
 "nbformat_minor": 2
}
